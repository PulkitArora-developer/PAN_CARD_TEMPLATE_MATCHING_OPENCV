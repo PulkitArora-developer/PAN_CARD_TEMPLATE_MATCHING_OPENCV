{
 "cells": [
  {
   "cell_type": "code",
   "execution_count": 117,
   "id": "guilty-debate",
   "metadata": {},
   "outputs": [
    {
     "name": "stdout",
     "output_type": "stream",
     "text": [
      "Image Not Matched\n"
     ]
    }
   ],
   "source": [
    "import cv2\n",
    "import numpy as np\n",
    "\n",
    "sample_image = cv2.imread(\"pan_card_sample.jpg\")\n",
    "sample_image_grayscale = cv2.cvtColor(sample_image,cv2.COLOR_BGR2GRAY)\n",
    "\n",
    "# test_image = cv2.imread(\"test_image_2.jpg\",0)\n",
    "# test_image = cv2.imread(\"test_image_1.jpg\",0)\n",
    "# test_image = cv2.imread(\"aadhar_card.jpg\",0)\n",
    "test_image = cv2.imread(\"aadhar_card_2.jpg\",0)\n",
    "# test_image = cv2.imread(\"man.jpg\",0)\n",
    "\n",
    "\n",
    "w, h = test_image.shape[::-1]\n",
    "\n",
    "# methods = ['cv2.TM_CCOEFF', 'cv2.TM_CCOEFF_NORMED', 'cv2.TM_CCORR',\n",
    "#             'cv2.TM_CCORR_NORMED', 'cv2.TM_SQDIFF', 'cv2.TM_SQDIFF_NORMED']\n",
    "\n",
    "lets_match = cv2.matchTemplate(sample_image_grayscale, test_image,cv2.TM_CCORR_NORMED)\n",
    "# print(lets_match)\n",
    "\n",
    "threshold_value = 0.95\n",
    "location = np.where(lets_match >= threshold_value)\n",
    "\n",
    "for point in zip(*location[::-1]):\n",
    "    cv2.rectangle(sample_image, point, (point[0] + w, point[1] + h), (0, 0, 255), 1)\n",
    "    \n",
    "if location[0].size > 0 and location[1].size > 0:\n",
    "    print(\"Image Matched\")\n",
    "else:\n",
    "    print(\"Image Not Matched\")\n",
    "\n",
    "cv2.imshow(\"SAMPLE IMAGE\",sample_image)\n",
    "cv2.waitKey(0)\n",
    "cv2.destroyAllWindows()\n",
    "\n",
    "\n",
    "\n"
   ]
  },
  {
   "cell_type": "code",
   "execution_count": null,
   "id": "sunset-frame",
   "metadata": {},
   "outputs": [],
   "source": []
  }
 ],
 "metadata": {
  "kernelspec": {
   "display_name": "Python 3",
   "language": "python",
   "name": "python3"
  },
  "language_info": {
   "codemirror_mode": {
    "name": "ipython",
    "version": 3
   },
   "file_extension": ".py",
   "mimetype": "text/x-python",
   "name": "python",
   "nbconvert_exporter": "python",
   "pygments_lexer": "ipython3",
   "version": "3.8.6"
  }
 },
 "nbformat": 4,
 "nbformat_minor": 5
}
